{
 "cells": [
  {
   "cell_type": "markdown",
   "metadata": {},
   "source": [
    "# Single output study\n",
    "Notebook to accompany GitHub issue: [Enforce minimum of 2 outputs per transaction at the consensus level #5399](https://github.com/monero-project/monero/issues/5399) opened by Isthmus\n",
    "\n",
    "Apr 2019 // Noncesense Research Lab // Data: [Neptune Research](https://github.com/NeptuneResearch/) // Analysis: [Isthmus](https://github.com/mitchellpkt)\n",
    "\n",
    "\n",
    "# Issue\n",
    "\n",
    "Typical transactions have at least 2 outputs: change + recipient(s). This is already implemented in the core software.\n",
    "\n",
    "Thus, any transaction with a single output leaks two pieces of information:\n",
    "\n",
    "-  The transaction is probably churn or a sweep\n",
    "-  The user is employing non-standard software\n",
    "\n",
    "As far as I know, enforcing >= 2 outputs per transaction at the consensus level will not impact any entities using correctly-designed software. This will be a forcing function to ensure that all wallets generate transactions that are indistinguishable (in this respect) from transactions constructed by the core software. "
   ]
  },
  {
   "cell_type": "markdown",
   "metadata": {},
   "source": [
    "## Import Libraries"
   ]
  },
  {
   "cell_type": "code",
   "execution_count": 1,
   "metadata": {},
   "outputs": [],
   "source": [
    "import pandas\n",
    "import numpy as np\n",
    "import matplotlib.pyplot as plt\n",
    "plt.rcParams.update({'font.size': 15})"
   ]
  },
  {
   "cell_type": "markdown",
   "metadata": {},
   "source": [
    "## Import data"
   ]
  },
  {
   "cell_type": "code",
   "execution_count": 2,
   "metadata": {},
   "outputs": [
    {
     "data": {
      "text/html": [
       "<div>\n",
       "<style scoped>\n",
       "    .dataframe tbody tr th:only-of-type {\n",
       "        vertical-align: middle;\n",
       "    }\n",
       "\n",
       "    .dataframe tbody tr th {\n",
       "        vertical-align: top;\n",
       "    }\n",
       "\n",
       "    .dataframe thead th {\n",
       "        text-align: right;\n",
       "    }\n",
       "</style>\n",
       "<table border=\"1\" class=\"dataframe\">\n",
       "  <thead>\n",
       "    <tr style=\"text-align: right;\">\n",
       "      <th></th>\n",
       "      <th>height</th>\n",
       "      <th>mrt</th>\n",
       "      <th>mrt_friendly</th>\n",
       "      <th>tx_index</th>\n",
       "      <th>tx_hash</th>\n",
       "    </tr>\n",
       "  </thead>\n",
       "  <tbody>\n",
       "    <tr>\n",
       "      <th>2517</th>\n",
       "      <td>1796250</td>\n",
       "      <td>1553252922</td>\n",
       "      <td>2019-03-22 11:08:42</td>\n",
       "      <td>1</td>\n",
       "      <td>889b9d6fc9cf87de8bcee4e890762cc49ed58445d014f8...</td>\n",
       "    </tr>\n",
       "    <tr>\n",
       "      <th>2518</th>\n",
       "      <td>1796299</td>\n",
       "      <td>1553259025</td>\n",
       "      <td>2019-03-22 12:50:25</td>\n",
       "      <td>1</td>\n",
       "      <td>b7a7608696d83d03f5ee656751dd43313ad54b1b22cd07...</td>\n",
       "    </tr>\n",
       "    <tr>\n",
       "      <th>2519</th>\n",
       "      <td>1796336</td>\n",
       "      <td>1553263716</td>\n",
       "      <td>2019-03-22 14:08:36</td>\n",
       "      <td>1</td>\n",
       "      <td>32dfeb0c293a65e1a0a1449a14f49c5d5e6c5fdf0e400f...</td>\n",
       "    </tr>\n",
       "    <tr>\n",
       "      <th>2520</th>\n",
       "      <td>1796357</td>\n",
       "      <td>1553265608</td>\n",
       "      <td>2019-03-22 14:40:08</td>\n",
       "      <td>1</td>\n",
       "      <td>288fc35627116250cd58f3884f6f6bc0f85411356327b8...</td>\n",
       "    </tr>\n",
       "    <tr>\n",
       "      <th>2521</th>\n",
       "      <td>1796382</td>\n",
       "      <td>1553269614</td>\n",
       "      <td>2019-03-22 15:46:54</td>\n",
       "      <td>1</td>\n",
       "      <td>db1f6d0347a3eaf2acc627c6f52ac694c6b12bd7dbad18...</td>\n",
       "    </tr>\n",
       "  </tbody>\n",
       "</table>\n",
       "</div>"
      ],
      "text/plain": [
       "       height         mrt         mrt_friendly  tx_index  \\\n",
       "2517  1796250  1553252922  2019-03-22 11:08:42         1   \n",
       "2518  1796299  1553259025  2019-03-22 12:50:25         1   \n",
       "2519  1796336  1553263716  2019-03-22 14:08:36         1   \n",
       "2520  1796357  1553265608  2019-03-22 14:40:08         1   \n",
       "2521  1796382  1553269614  2019-03-22 15:46:54         1   \n",
       "\n",
       "                                                tx_hash  \n",
       "2517  889b9d6fc9cf87de8bcee4e890762cc49ed58445d014f8...  \n",
       "2518  b7a7608696d83d03f5ee656751dd43313ad54b1b22cd07...  \n",
       "2519  32dfeb0c293a65e1a0a1449a14f49c5d5e6c5fdf0e400f...  \n",
       "2520  288fc35627116250cd58f3884f6f6bc0f85411356327b8...  \n",
       "2521  db1f6d0347a3eaf2acc627c6f52ac694c6b12bd7dbad18...  "
      ]
     },
     "execution_count": 2,
     "metadata": {},
     "output_type": "execute_result"
    }
   ],
   "source": [
    "df = pandas.read_csv('tx_ringct_1_out.csv')\n",
    "df.tail()"
   ]
  },
  {
   "cell_type": "markdown",
   "metadata": {},
   "source": [
    "Take a look at one of the transactions:\n",
    "\n",
    "[db1f6d0347a3eaf2acc627c6f52ac694c6b12bd7dbad18](db1f6d0347a3eaf2acc627c6f52ac694c6b12bd7dbad18)"
   ]
  },
  {
   "cell_type": "markdown",
   "metadata": {},
   "source": [
    "## How many single-output RingCT transactions occurred?"
   ]
  },
  {
   "cell_type": "code",
   "execution_count": 3,
   "metadata": {},
   "outputs": [
    {
     "data": {
      "text/plain": [
       "2522"
      ]
     },
     "execution_count": 3,
     "metadata": {},
     "output_type": "execute_result"
    }
   ],
   "source": [
    "len(df)"
   ]
  },
  {
   "cell_type": "markdown",
   "metadata": {},
   "source": [
    "## When have single-output transactions occurred?"
   ]
  },
  {
   "cell_type": "code",
   "execution_count": 4,
   "metadata": {},
   "outputs": [
    {
     "data": {
      "image/png": "[encoded data removed]",
      "text/plain": [
       "<Figure size 720x360 with 1 Axes>"
      ]
     },
     "metadata": {},
     "output_type": "display_data"
    }
   ],
   "source": [
    "fig, ax = plt.subplots(figsize=(10, 5))\n",
    "plt.hist(df.height, bins = 10)\n",
    "plt.title('Single-output transactions')\n",
    "ax.set_xlabel('height')\n",
    "ax.set_ylabel('count of single-output txns')\n",
    "plt.xlim(np.min(df.height), np.max(df.height))\n",
    "plt.text(1250000, 100, 'Neptune Research & Isthmus',size=12);"
   ]
  },
  {
   "cell_type": "markdown",
   "metadata": {},
   "source": [
    "Above, we see that this is a continuous problem.\n",
    "\n",
    "Below, let's take a look at the same plot with higher resolution:"
   ]
  },
  {
   "cell_type": "code",
   "execution_count": 5,
   "metadata": {},
   "outputs": [
    {
     "data": {
      "image/png": "[encoded data removed]",
      "text/plain": [
       "<Figure size 720x360 with 1 Axes>"
      ]
     },
     "metadata": {},
     "output_type": "display_data"
    }
   ],
   "source": [
    "fig, ax = plt.subplots(figsize=(10, 5))\n",
    "plt.hist(df.height, bins = 100)\n",
    "plt.title('Single-output transactions')\n",
    "ax.set_xlabel('height')\n",
    "ax.set_ylabel('count of single-output txns')\n",
    "plt.axis('tight')\n",
    "plt.xlim(np.min(df.height), np.max(df.height))\n",
    "plt.text(1250000, 50, 'Neptune Research & Isthmus',size=12);"
   ]
  },
  {
   "cell_type": "markdown",
   "metadata": {},
   "source": [
    "## Observations\n",
    "From the above plots:\n",
    "-  Single-output transactions (SOTXs) are a persistent intermittent phenomena\n",
    "-  There was a surge of SOTXs around height 1562000\n",
    "-  SOTXs are observed to this day\n",
    "\n",
    "Additional research discovered that SOTXs often contain additional information leaks:\n",
    "-  Unusually high fees (orders of magnitude above the block median)\n",
    "-  Naturally, many SOTXs contain a large number of inputs, often using uniform decoy selection, revealing spends en masse\n",
    "-  Unusual and high ring size (before it was fixed)"
   ]
  }
 ],
 "metadata": {
  "kernelspec": {
   "display_name": "Python 3",
   "language": "python",
   "name": "python3"
  },
  "language_info": {
   "codemirror_mode": {
    "name": "ipython",
    "version": 3
   },
   "file_extension": ".py",
   "mimetype": "text/x-python",
   "name": "python",
   "nbconvert_exporter": "python",
   "pygments_lexer": "ipython3",
   "version": "3.6.8"
  }
 },
 "nbformat": 4,
 "nbformat_minor": 2
}
